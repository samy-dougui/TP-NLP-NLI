{
 "cells": [
  {
   "cell_type": "code",
   "execution_count": null,
   "metadata": {
    "scrolled": true
   },
   "outputs": [],
   "source": [
    "#!pip3 install --user datasets"
   ]
  },
  {
   "cell_type": "code",
   "execution_count": null,
   "metadata": {
    "scrolled": true
   },
   "outputs": [],
   "source": [
    "#!pip3 install --user transformers -U"
   ]
  },
  {
   "cell_type": "code",
   "execution_count": 63,
   "metadata": {},
   "outputs": [],
   "source": [
    "import os\n",
    "\n",
    "import torch\n",
    "import torch.nn as nn\n",
    "\n",
    "from datasets import load_dataset\n",
    "\n",
    "from transformers import DistilBertTokenizerFast, DistilBertForSequenceClassification\n",
    "from transformers import get_linear_schedule_with_warmup"
   ]
  },
  {
   "cell_type": "code",
   "execution_count": null,
   "metadata": {},
   "outputs": [],
   "source": [
    "config = {\n",
    "    \"BATCH_SIZE\": 32,\n",
    "    \"NUM_LABEL\": 3,\n",
    "    \"NUM_EPOCH\": 10,\n",
    "    \"CATEGORY\": {\n",
    "        0: \"contradiction\",\n",
    "        1: \"neutral\",\n",
    "        2: \"entailment\"\n",
    "    }\n",
    "}\n",
    "device = torch.device(\"cuda\") if torch.cuda.is_available() else torch.device(\"cpu\")"
   ]
  },
  {
   "cell_type": "code",
   "execution_count": null,
   "metadata": {},
   "outputs": [],
   "source": [
    "snli = load_dataset(\"snli\")\n",
    "snli = snli.filter(lambda example: example['label'] != -1)"
   ]
  },
  {
   "cell_type": "code",
   "execution_count": null,
   "metadata": {},
   "outputs": [],
   "source": [
    "tokenizer = DistilBertTokenizerFast.from_pretrained('distilbert-base-cased')"
   ]
  },
  {
   "cell_type": "code",
   "execution_count": null,
   "metadata": {},
   "outputs": [],
   "source": [
    "def preprocess(dataset, tokenizer):\n",
    "    \n",
    "    def encode(data):\n",
    "        return tokenizer(data[\"hypothesis\"], data[\"premise\"], truncation=True, padding='max_length')\n",
    "    \n",
    "    dataset_pre_processed = dataset.map(encode, batched=True, batch_size=config[\"BATCH_SIZE\"], num_proc=os.cpu_count())\n",
    "    dataset_pre_processed.set_format(type='torch', columns=['input_ids', 'attention_mask', 'label']) # The model needs tensor as inputs\n",
    "    dataset_pre_processed = dataset_pre_processed.rename_column(\"label\", \"labels\") # The model takes as arg labels not label\n",
    "    \n",
    "    return dataset_pre_processed[\"train\"], dataset_pre_processed[\"validation\"], dataset_pre_processed[\"test\"] "
   ]
  },
  {
   "cell_type": "code",
   "execution_count": null,
   "metadata": {},
   "outputs": [],
   "source": [
    "train_data, validation_data, test_data = preprocess(dataset=snli, tokenizer=tokenizer)"
   ]
  },
  {
   "cell_type": "code",
   "execution_count": null,
   "metadata": {},
   "outputs": [],
   "source": [
    "train_data_loader = torch.utils.data.DataLoader(dataset=train_data,\n",
    "                                              batch_size=config[\"BATCH_SIZE\"],\n",
    "                                              shuffle=False)\n",
    "validation_data_loader = torch.utils.data.DataLoader(dataset=validation_data,\n",
    "                                              batch_size=config[\"BATCH_SIZE\"],\n",
    "                                              shuffle=False)\n",
    "test_data_loader = torch.utils.data.DataLoader(dataset=test_data,\n",
    "                                              batch_size=config[\"BATCH_SIZE\"],\n",
    "                                              shuffle=False)"
   ]
  },
  {
   "cell_type": "code",
   "execution_count": null,
   "metadata": {},
   "outputs": [],
   "source": [
    "def train(data_loader, model, optimizer, scheduler, device, verbose=False):\n",
    "    model.train()\n",
    "    total_number, total_loss = 0, 0.0\n",
    "    for i, data in enumerate(data_loader):\n",
    "        if verbose and i%100==0:\n",
    "            print(f'\\t[Training] Progress: {i}/{len(data_loader)}')\n",
    "        inputs = {\n",
    "            \"input_ids\": data[\"input_ids\"].to(device),\n",
    "            \"labels\": data[\"labels\"].to(device),\n",
    "            \"attention_mask\": data[\"attention_mask\"].to(device)\n",
    "        }\n",
    "        outputs = model(inputs[\"input_ids\"], inputs[\"attention_mask\"], labels=inputs[\"labels\"])\n",
    "        loss = outputs.loss\n",
    "        loss.backward()\n",
    "        total_number += inputs[\"input_ids\"].shape[0]\n",
    "        total_loss += inputs[\"input_ids\"].shape[0] * loss.item()\n",
    "        \n",
    "        optimizer.step()\n",
    "        optimizer.zero_grad()\n",
    "        \n",
    "        if i == 1000:\n",
    "            break\n",
    "        \n",
    "    return total_loss/total_number"
   ]
  },
  {
   "cell_type": "code",
   "execution_count": null,
   "metadata": {},
   "outputs": [],
   "source": [
    "def test(data_loader, model, device, verbose=False):\n",
    "    model.eval()\n",
    "    total_number, total_loss = 0, 0.0\n",
    "    with torch.no_grad():\n",
    "        for i, data in enumerate(data_loader):\n",
    "            if verbose and i%100==0:\n",
    "                print(f'\\t[Testing] Progress: {i}/{len(data_loader)}')\n",
    "            inputs = {\n",
    "                \"input_ids\": data[\"input_ids\"].to(device),\n",
    "                \"labels\": data[\"labels\"].to(device),\n",
    "                \"attention_mask\": data[\"attention_mask\"].to(device)\n",
    "            }\n",
    "            outputs = model(inputs[\"input_ids\"], inputs[\"attention_mask\"], labels=inputs[\"labels\"])\n",
    "            loss = outputs.loss\n",
    "            total_number += inputs[\"input_ids\"].shape[0]\n",
    "            total_loss += inputs[\"input_ids\"].shape[0] * loss.item()\n",
    "\n",
    "    return total_loss/total_number"
   ]
  },
  {
   "cell_type": "code",
   "execution_count": null,
   "metadata": {},
   "outputs": [],
   "source": [
    "def train_test(model, train_data_loader, validation_data_loader, test_data_loader, num_epoch, optimizer, scheduler, device, verbose=False):\n",
    "    for i in range(num_epoch):\n",
    "        print(f'[Epoch] Epoch number: {i}')\n",
    "        train_loss = train(train_data_loader, model, optimizer, \n",
    "                           scheduler, device, verbose)\n",
    "        print(f'[Train loss] Train Loss: {train_loss}')\n",
    "        validation_loss = test(validation_data_loader, model=model, device=device, verbose=verbose)\n",
    "        print(f'[Validation loss] Validation Loss: {validation_loss}')\n",
    "        scheduler.step()\n",
    "    \n",
    "    test_loss = test(test_data_loader, model, device, verbose=verbose)\n",
    "    print(f'[Test loss] Test Loss: {test_loss}')"
   ]
  },
  {
   "cell_type": "code",
   "execution_count": null,
   "metadata": {},
   "outputs": [],
   "source": [
    "model = DistilBertForSequenceClassification.from_pretrained('distilbert-base-cased', num_labels=config[\"NUM_LABEL\"])\n",
    "optimizer = torch.optim.Adam(model.parameters(), lr=1e-4)\n",
    "scheduler = get_linear_schedule_with_warmup(optimizer, 5, 2)"
   ]
  },
  {
   "cell_type": "code",
   "execution_count": null,
   "metadata": {},
   "outputs": [],
   "source": [
    "model.to(device)\n",
    "for param in model.base_model.parameters():\n",
    "    param.requires_grad = False"
   ]
  },
  {
   "cell_type": "code",
   "execution_count": null,
   "metadata": {},
   "outputs": [],
   "source": [
    "train_test(model, train_data_loader, validation_data_loader, test_data_loader, config[\"NUM_EPOCH\"], optimizer, scheduler, device, verbose=True)"
   ]
  },
  {
   "cell_type": "code",
   "execution_count": null,
   "metadata": {},
   "outputs": [],
   "source": [
    "def get_prediction(model, tokenizer, hypothesis, premise, device=\"cpu\"):\n",
    "    \"\"\"\n",
    "        Takes as input the model, a tokenizer, an hypothesis and a premise (by default it will be used on cpu).\n",
    "        It returns the probabilities for each category.\n",
    "        It also displays the category.\n",
    "    \"\"\"\n",
    "    inputs = tokenizer(hypothesis, premise, truncation=True, padding='max_length')\n",
    "    model.eval()\n",
    "    with torch.no_grad():\n",
    "        inputs = {\n",
    "                \"input_ids\": data[\"input_ids\"].to(device),\n",
    "                \"labels\": data[\"labels\"].to(device),\n",
    "                \"attention_mask\": data[\"attention_mask\"].to(device)\n",
    "            }\n",
    "        outputs = model(inputs[\"input_ids\"], inputs[\"attention_mask\"], labels=inputs[\"labels\"])\n",
    "        \n",
    "        logits = outputs.logits\n",
    "        softmax = nn.Softmax(dim=0)\n",
    "        probabilities = softmax(logits)[0].items()\n",
    "        index_max = torch.argmax(probabilities, dim=0)\n",
    "        prediction = probabilities[index_max]\n",
    "        \n",
    "        print(f'{hypothesis} and {premise} are: {config[\"CATEGORY\"][index_max]} with a probability of {prediction}')\n",
    "\n",
    "    return probabilities"
   ]
  },
  {
   "cell_type": "markdown",
   "metadata": {},
   "source": [
    "## Example"
   ]
  },
  {
   "cell_type": "code",
   "execution_count": null,
   "metadata": {},
   "outputs": [],
   "source": [
    "model = torch.load(\"MODEL_PATH\", map_location=device)\n",
    "model.to(device)"
   ]
  },
  {
   "cell_type": "code",
   "execution_count": null,
   "metadata": {},
   "outputs": [],
   "source": [
    "hypothesis = \"A soccer game with multiple males playing.\"\n",
    "premise = \"Some men are playing a sport.\"\n",
    "prob = get_prediction(model, tokenizer, hypothesis, premise, device=device)"
   ]
  },
  {
   "source": [
    "## VizViz"
   ],
   "cell_type": "markdown",
   "metadata": {}
  },
  {
   "cell_type": "code",
   "execution_count": null,
   "metadata": {},
   "outputs": [],
   "source": [
    "!pip3 install bertviz --user"
   ]
  },
  {
   "cell_type": "code",
   "execution_count": null,
   "metadata": {},
   "outputs": [],
   "source": [
    "from bertviz import head_view"
   ]
  },
  {
   "cell_type": "code",
   "execution_count": null,
   "metadata": {},
   "outputs": [],
   "source": [
    "#model = torch.load(\"./best_model_aug_V2.pt\", map_location=device) # <- Marche pas car pas output attention\n",
    "model = DistilBertForSequenceClassification.from_pretrained('distilbert-base-cased', num_labels=config[\"NUM_LABEL\"], output_attentions=True)\n",
    "model.to(device)"
   ]
  },
  {
   "cell_type": "code",
   "execution_count": null,
   "metadata": {},
   "outputs": [],
   "source": [
    "def viz_viz(hypothesis, premise, model, tokenizer, device):\n",
    "    output_tokenizer = tokenizer(hypothesis, premise, return_tensors=\"pt\", add_special_tokens=True)\n",
    "    input_ids = output_tokenizer[\"input_ids\"][0].tolist()\n",
    "    output_tokenizer = output_tokenizer.to(device)\n",
    "    output_model = model(**output_tokenizer)\n",
    "    try:\n",
    "        attention = output_model[\"attentions\"]\n",
    "    except KeyError:\n",
    "        logger.error(\"Model must ouput attentions\")\n",
    "        return\n",
    "    input_token = tokenizer.convert_ids_to_tokens(input_ids)\n",
    "    head_view(attention, input_token)"
   ]
  },
  {
   "cell_type": "code",
   "execution_count": null,
   "metadata": {},
   "outputs": [],
   "source": [
    "hypothesis = \"\"\n",
    "premise = \"\""
   ]
  },
  {
   "cell_type": "code",
   "execution_count": null,
   "metadata": {},
   "outputs": [],
   "source": [
    "viz_viz(hypothesis, premise, model, tokenizer, device)"
   ]
  }
 ],
 "metadata": {
  "kernelspec": {
   "display_name": "Python 3",
   "language": "python",
   "name": "python3"
  },
  "language_info": {
   "codemirror_mode": {
    "name": "ipython",
    "version": 3
   },
   "file_extension": ".py",
   "mimetype": "text/x-python",
   "name": "python",
   "nbconvert_exporter": "python",
   "pygments_lexer": "ipython3",
   "version": "3.9.0"
  }
 },
 "nbformat": 4,
 "nbformat_minor": 2
}