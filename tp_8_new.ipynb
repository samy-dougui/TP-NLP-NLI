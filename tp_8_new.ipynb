{
 "cells": [
  {
   "cell_type": "code",
   "execution_count": null,
   "metadata": {
    "scrolled": true
   },
   "outputs": [],
   "source": [
    "!pip3 install --user datasets"
   ]
  },
  {
   "cell_type": "code",
   "execution_count": null,
   "metadata": {
    "scrolled": true
   },
   "outputs": [],
   "source": [
    "!pip3 install --user transformers"
   ]
  },
  {
   "cell_type": "code",
   "execution_count": null,
   "metadata": {
    "scrolled": false
   },
   "outputs": [],
   "source": [
    "from datasets import load_dataset\n",
    "snli = load_dataset(\"snli\")\n",
    "#Removing sentence pairs with no label (-1)\n",
    "snli = snli.filter(lambda example: example['label'] != -1)"
   ]
  },
  {
   "cell_type": "code",
   "execution_count": null,
   "metadata": {},
   "outputs": [],
   "source": [
    "import torch\n",
    "import torch.nn as nn\n",
    "from transformers import DistilBertTokenizerFast, DistilBertForSequenceClassification"
   ]
  },
  {
   "cell_type": "code",
   "execution_count": null,
   "metadata": {},
   "outputs": [],
   "source": [
    "config = {\n",
    "    \"BATCH_SIZE\": 32,\n",
    "    \"NUM_LABEL\": 3\n",
    "}\n",
    "device = torch.device('cuda')"
   ]
  },
  {
   "cell_type": "code",
   "execution_count": null,
   "metadata": {
    "scrolled": true
   },
   "outputs": [],
   "source": [
    "tokenizer = DistilBertTokenizerFast.from_pretrained('distilbert-base-uncased')\n",
    "model = DistilBertForSequenceClassification.from_pretrained('distilbert-base-cased', num_labels=config[\"NUM_LABEL\"])"
   ]
  },
  {
   "cell_type": "code",
   "execution_count": null,
   "metadata": {},
   "outputs": [],
   "source": [
    "def preprocess_dataset(dataset, tokenizer):\n",
    "    dataset_tokenized = dataset.map(lambda item: tokenizer(item[\"hypothesis\"], item[\"premise\"],  padding=\"longest\"), batched=True, batch_size=config[\"BATCH_SIZE\"])\n",
    "    dataset_tokenized.set_format(type=\"torch\", columns=['input_ids', 'attention_mask', 'label']) # We need pytorch tensorflow as output\n",
    "    dataset_tokenized = dataset_tokenized.rename_column(\"label\", \"labels\") # The model takes as arg labels not label\n",
    "    return dataset_tokenized"
   ]
  },
  {
   "cell_type": "code",
   "execution_count": null,
   "metadata": {},
   "outputs": [],
   "source": [
    "train_dataset = snli[\"train\"]\n",
    "test_dataset = snli[\"test\"]\n",
    "validation_dataset = snli[\"validation\"]"
   ]
  },
  {
   "cell_type": "code",
   "execution_count": null,
   "metadata": {
    "scrolled": false
   },
   "outputs": [],
   "source": [
    "train_dataset_tokenized = preprocess_dataset(train_dataset, tokenizer)\n",
    "test_dataset_tokenized = preprocess_dataset(test_dataset, tokenizer)\n",
    "validation_dataset_tokenized = preprocess_dataset(validation_dataset, tokenizer)"
   ]
  },
  {
   "cell_type": "code",
   "execution_count": null,
   "metadata": {},
   "outputs": [],
   "source": [
    "train_loader = torch.utils.data.DataLoader(dataset=train_dataset_tokenized,\n",
    "                                              batch_size=config[\"BATCH_SIZE\"],\n",
    "                                              shuffle=False)\n",
    "test_loader = torch.utils.data.DataLoader(dataset=test_dataset_tokenized,\n",
    "                                              batch_size=config[\"BATCH_SIZE\"],\n",
    "                                              shuffle=False)\n",
    "validation_loader = torch.utils.data.DataLoader(dataset=validation_dataset_tokenized,\n",
    "                                              batch_size=config[\"BATCH_SIZE\"],\n",
    "                                              shuffle=False)"
   ]
  },
  {
   "cell_type": "code",
   "execution_count": null,
   "metadata": {},
   "outputs": [],
   "source": [
    "print(next(iter(train_loader)))"
   ]
  },
  {
   "cell_type": "code",
   "execution_count": null,
   "metadata": {},
   "outputs": [],
   "source": [
    "model.to(device)"
   ]
  },
  {
   "cell_type": "code",
   "execution_count": null,
   "metadata": {},
   "outputs": [],
   "source": [
    "for _, data in enumerate(test_loader):\n",
    "    print(f'Shape input_ids: {data[\"input_ids\"].shape}')\n",
    "    print(f'Shape labels: {data[\"labels\"].shape}')\n",
    "    print(f'Shape attention masks: {data[\"attention_mask\"].shape}')\n",
    "    input = {\n",
    "        \"input_ids\": data[\"input_ids\"].to(device),\n",
    "        \"labels\": data[\"labels\"].to(device),\n",
    "        \"attention_mask\": data[\"attention_mask\"].to(device)\n",
    "    }\n",
    "    output = model(**input)\n",
    "    print(output)\n",
    "    break"
   ]
  }
 ],
 "metadata": {
  "kernelspec": {
   "display_name": "Python 3",
   "language": "python",
   "name": "python3"
  },
  "language_info": {
   "codemirror_mode": {
    "name": "ipython",
    "version": 3
   },
   "file_extension": ".py",
   "mimetype": "text/x-python",
   "name": "python",
   "nbconvert_exporter": "python",
   "pygments_lexer": "ipython3",
   "version": "3.9.0-final"
  }
 },
 "nbformat": 4,
 "nbformat_minor": 2
}